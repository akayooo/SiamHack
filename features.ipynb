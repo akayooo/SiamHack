{
 "cells": [
  {
   "cell_type": "code",
   "execution_count": 5,
   "metadata": {},
   "outputs": [],
   "source": [
    "import pandas as pd\n",
    "import os\n",
    "import numpy as np"
   ]
  },
  {
   "cell_type": "code",
   "execution_count": 6,
   "metadata": {},
   "outputs": [],
   "source": [
    "def feature_adder(filepath, window_size=10):\n",
    "\n",
    "    df = pd.read_csv(filepath, sep=\"\\s+\", header=None, names=[\"X\", \"Y\"])\n",
    "\n",
    "    mean_x = df[\"X\"].mean()\n",
    "    mean_y = df[\"Y\"].mean()\n",
    "\n",
    "    new_cols = {}\n",
    "    prev_x_cols = []\n",
    "    prev_y_cols= []\n",
    "    next_x_cols = []\n",
    "    next_y_cols = []\n",
    "\n",
    "    for i in range(1, window_size + 1):\n",
    "        new_cols[f\"prev{i}_x\"] = df[\"X\"].shift(i)\n",
    "        new_cols[f\"prev{i}_y\"] = df[\"Y\"].shift(i)\n",
    "\n",
    "        new_cols[f\"next{i}_x\"] = df[\"X\"].shift(-i)\n",
    "        new_cols[f\"next{i}_y\"] = df[\"Y\"].shift(-i)\n",
    "        prev_x_cols.append(f'prev{i}_x')\n",
    "        prev_y_cols.append(f\"prev{i}_y\")\n",
    "        next_x_cols.append(f\"next{i}_x\")\n",
    "        next_y_cols.append(f\"next{i}_y\")\n",
    "        \n",
    "\n",
    "    new_cols_df = pd.DataFrame(new_cols, index=df.index)\n",
    "\n",
    "    for col in new_cols_df.columns:\n",
    "        if col.endswith(\"_x\"):\n",
    "            new_cols_df[col].fillna(mean_x, inplace=True)\n",
    "        else:\n",
    "            new_cols_df[col].fillna(mean_y, inplace=True)\n",
    "\n",
    "    df_result = pd.concat([df, new_cols_df], axis=1)\n",
    "\n",
    "    \n",
    "    df_result['delta_P'] = (abs(df_result['Y'] - df_result['prev1_y'])).astype(float)\n",
    "    df_result['delta_T'] = (abs(df_result['X'] - df_result['prev1_x'])).astype(float)\n",
    "    df_result.loc[0, 'delta_P'] = 0\n",
    "    df_result.loc[0, 'delta_T'] = 0\n",
    "    \n",
    "    \n",
    "    df_result['avg_y_2n'] = df_result[prev_y_cols + next_y_cols].mean(axis=1)\n",
    "\n",
    "    \n",
    "\n",
    "    return df_result"
   ]
  },
  {
   "cell_type": "code",
   "execution_count": 7,
   "metadata": {},
   "outputs": [],
   "source": [
    "feature_adder('/Users/savinovsvatoslav/Downloads/Task 23/00e4dba2-36d2-42b4-beb1-c55aed75f506').to_csv('proba.csv',index=False)\n",
    "# feature_adder('/Users/savinovsvatoslav/Code/skvazhina_hack/test')"
   ]
  },
  {
   "cell_type": "code",
   "execution_count": null,
   "metadata": {},
   "outputs": [],
   "source": []
  }
 ],
 "metadata": {
  "kernelspec": {
   "display_name": "3.8.20",
   "language": "python",
   "name": "python3"
  },
  "language_info": {
   "codemirror_mode": {
    "name": "ipython",
    "version": 3
   },
   "file_extension": ".py",
   "mimetype": "text/x-python",
   "name": "python",
   "nbconvert_exporter": "python",
   "pygments_lexer": "ipython3",
   "version": "3.8.20"
  }
 },
 "nbformat": 4,
 "nbformat_minor": 2
}
