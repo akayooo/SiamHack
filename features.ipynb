{
 "cells": [
  {
   "cell_type": "code",
   "execution_count": 34,
   "metadata": {},
   "outputs": [],
   "source": [
    "import pandas as pd\n",
    "import os\n",
    "import numpy as np"
   ]
  },
  {
   "cell_type": "code",
   "execution_count": 41,
   "metadata": {},
   "outputs": [],
   "source": [
    "def feature_adder(filepath, window_size=10):\n",
    "\n",
    "    df = pd.read_csv(filepath, sep=\"\\s+\", header=None, names=[\"X\", \"Y\"])\n",
    "    \n",
    "    df.loc[df[\"X\"] == 0, \"X\"] = 1e-9\n",
    "\n",
    "\n",
    "    df['X'] = df['X'] - df['X'].iloc[0]\n",
    "    df['Y'] = abs(df['Y'] - df['Y'].iloc[0])\n",
    "\n",
    "\n",
    "    df[\"ln_t\"] = np.log(df[\"X\"])\n",
    "\n",
    "\n",
    "    df[\"p_grad\"] = np.nan\n",
    "\n",
    "\n",
    "    for i in range(1, len(df) - 1):\n",
    "        dp_next = df[\"Y\"].iloc[i+1]\n",
    "        dp_prev = df[\"Y\"].iloc[i-1]\n",
    "        ln_t_next = df[\"ln_t\"].iloc[i+1]\n",
    "        ln_t_prev = df[\"ln_t\"].iloc[i-1]\n",
    "        \n",
    "        df.loc[df.index[i], \"p_grad\"] = (dp_next - dp_prev) / (ln_t_next - ln_t_prev)\n",
    "\n",
    "    df=df.fillna(0)\n",
    "\n",
    "    mean_y = df[\"Y\"].mean()\n",
    "    \n",
    "\n",
    "    new_cols = {}\n",
    "    prev_y_cols= []\n",
    "    next_y_cols = []\n",
    "\n",
    "    for i in range(1, window_size + 1):\n",
    "        new_cols[f\"prev{i}_y\"] = df[\"Y\"].shift(i)\n",
    "\n",
    "        new_cols[f\"next{i}_y\"] = df[\"Y\"].shift(-i)\n",
    "        \n",
    "        new_cols[f\"prev{i}_p_grad\"] = df[\"p_grad\"].shift(i)\n",
    "\n",
    "        new_cols[f\"next{i}_p_grad\"] = df[\"p_grad\"].shift(-i)\n",
    "        \n",
    "        \n",
    "        prev_y_cols.append(f\"prev{i}_y\")\n",
    "        next_y_cols.append(f\"next{i}_y\")\n",
    "        \n",
    "\n",
    "    new_cols_df = pd.DataFrame(new_cols, index=df.index)\n",
    "\n",
    "    mean_p_grad = df['p_grad'].mean()\n",
    "    \n",
    "    for col in new_cols_df.columns:\n",
    "        if col.endswith(\"_y\"):\n",
    "            new_cols_df[col].fillna(mean_y, inplace=True)\n",
    "        elif col.endswith('_p_grad'):\n",
    "            new_cols_df[col].fillna(mean_p_grad,inplace=True)\n",
    "\n",
    "    df_result = pd.concat([df, new_cols_df], axis=1)\n",
    "\n",
    "    \n",
    "    df_result['delta_P'] = (abs(df_result['Y'] - df_result['prev1_y'])).astype(float)\n",
    "    df_result.loc[0, 'delta_P'] = 0\n",
    "    \n",
    "    \n",
    "    df_result['avg_y_2n'] = df_result[prev_y_cols + next_y_cols].mean(axis=1)\n",
    "    df_result['median_y_2n'] = df_result[prev_y_cols + next_y_cols].median(axis=1)\n",
    "    df_result['avg_y_prevn'] = df_result[prev_y_cols].mean(axis=1)\n",
    "    df_result['avg_y_nextn'] = df_result[next_y_cols].mean(axis=1)\n",
    "    df_result['median_y_prevn'] = df_result[prev_y_cols].median(axis=1)\n",
    "    df_result['median_y_nextn'] = df_result[next_y_cols].median(axis=1)    \n",
    "    df_result['max-now'] = abs(df_result['Y'] - df_result['Y'].max())\n",
    "    df_result[\"diff_from_avg_prev\"] = df_result[\"Y\"] - df_result[\"avg_y_prevn\"]\n",
    "    df_result[\"diff_from_avg_next\"] = df_result[\"avg_y_nextn\"] - df_result[\"Y\"]\n",
    "    \n",
    "    \n",
    "    combined_cols = prev_y_cols + next_y_cols\n",
    "    \n",
    "    # Статистические показатели для комбинированного массива:\n",
    "    df_result['combined_mean'] = df_result[combined_cols].mean(axis=1)\n",
    "    df_result['combined_median'] = df_result[combined_cols].median(axis=1)\n",
    "    df_result['combined_std'] = df_result[combined_cols].std(axis=1)\n",
    "    df_result['combined_skew'] = df_result[combined_cols].skew(axis=1)\n",
    "    df_result['combined_kurt'] = df_result[combined_cols].kurtosis(axis=1)\n",
    "    df_result['combined_range'] = df_result[combined_cols].max(axis=1) - df_result[combined_cols].min(axis=1)\n",
    "    \n",
    "    # Локальные признаки для поиска КВД/КПД на основе комбинированного массива:\n",
    "    # Отношение текущего давления к максимальному и минимальному значению среди соседей\n",
    "    df_result['combined_max'] = df_result[combined_cols].max(axis=1)\n",
    "    df_result['combined_min'] = df_result[combined_cols].min(axis=1)\n",
    "    df_result['ratio_to_max_combined'] = df_result['Y'] / df_result['combined_max']\n",
    "    df_result['ratio_to_min_combined'] = df_result['Y'] / df_result['combined_min']\n",
    "    \n",
    "    # Флаг нестабильного интервала:\n",
    "    # Рассчитываем порог как среднее значение стандартного отклонения для комбинированного массива\n",
    "    std_threshold = df_result['combined_std'].mean()\n",
    "    df_result['unstable_flag_combined'] = (df_result['combined_std'] > std_threshold).astype(int)\n",
    "    \n",
    "    return df_result"
   ]
  },
  {
   "cell_type": "code",
   "execution_count": 42,
   "metadata": {},
   "outputs": [
    {
     "name": "stderr",
     "output_type": "stream",
     "text": [
      "/Users/savinovsvatoslav/.pyenv/versions/3.8.20/lib/python3.8/site-packages/pandas/core/arraylike.py:396: RuntimeWarning: divide by zero encountered in log\n",
      "  result = getattr(ufunc, method)(*inputs, **kwargs)\n"
     ]
    }
   ],
   "source": [
    "feature_adder('/Users/savinovsvatoslav/Downloads/Task 23/00e03657-8e1e-4c8c-a724-1d3c77b48510').to_csv('proba.csv',index=False)\n",
    "# feature_adder('/Users/savinovsvatoslav/Code/skvazhina_hack/test')"
   ]
  },
  {
   "cell_type": "code",
   "execution_count": null,
   "metadata": {},
   "outputs": [],
   "source": []
  },
  {
   "cell_type": "code",
   "execution_count": null,
   "metadata": {},
   "outputs": [],
   "source": []
  }
 ],
 "metadata": {
  "kernelspec": {
   "display_name": "3.8.20",
   "language": "python",
   "name": "python3"
  },
  "language_info": {
   "codemirror_mode": {
    "name": "ipython",
    "version": 3
   },
   "file_extension": ".py",
   "mimetype": "text/x-python",
   "name": "python",
   "nbconvert_exporter": "python",
   "pygments_lexer": "ipython3",
   "version": "3.8.20"
  }
 },
 "nbformat": 4,
 "nbformat_minor": 2
}
